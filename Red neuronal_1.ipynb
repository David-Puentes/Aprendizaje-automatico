{
 "cells": [
  {
   "cell_type": "code",
   "execution_count": 1,
   "metadata": {},
   "outputs": [],
   "source": [
    "import pandas as pd\n",
    "import matplotlib.pyplot as plt\n",
    "from sklearn.model_selection import train_test_split\n",
    "from sklearn.feature_selection import RFE\n",
    "from sklearn import preprocessing\n",
    "from sklearn.neural_network import MLPClassifier\n",
    "from sklearn.metrics import classification_report, confusion_matrix, r2_score"
   ]
  },
  {
   "cell_type": "code",
   "execution_count": 2,
   "metadata": {},
   "outputs": [],
   "source": [
    "r=\"winequality-red.csv\"\n",
    "datos=pd.read_csv(r,sep=\";\")"
   ]
  },
  {
   "cell_type": "code",
   "execution_count": 3,
   "metadata": {},
   "outputs": [
    {
     "data": {
      "text/plain": [
       "(320, 11)"
      ]
     },
     "execution_count": 3,
     "metadata": {},
     "output_type": "execute_result"
    }
   ],
   "source": [
    "X=datos.drop([\"quality\"],axis=1).values\n",
    "y=datos[\"quality\"].values\n",
    "X_train,X_test,y_train,y_test=train_test_split(X,y,test_size=0.2,\n",
    "                                               random_state=397)\n",
    "X_test.shape"
   ]
  },
  {
   "cell_type": "markdown",
   "metadata": {},
   "source": [
    "Normalización de los datos"
   ]
  },
  {
   "cell_type": "code",
   "execution_count": 4,
   "metadata": {},
   "outputs": [],
   "source": [
    "scaler= preprocessing.StandardScaler().fit(X_train)\n",
    "X_train_scaled=scaler.transform(X_train)\n",
    "X_test_scaled=scaler.transform(X_test)"
   ]
  },
  {
   "cell_type": "markdown",
   "metadata": {},
   "source": [
    "Entrenamiento y desempeño del modelo"
   ]
  },
  {
   "cell_type": "code",
   "execution_count": 5,
   "metadata": {},
   "outputs": [
    {
     "name": "stdout",
     "output_type": "stream",
     "text": [
      "[[  0   0   1   0   0   0]\n",
      " [  0   0   3   1   0   0]\n",
      " [  0   0 105  39   1   0]\n",
      " [  0   0  58  61   2   0]\n",
      " [  0   0   5  30  11   0]\n",
      " [  0   0   0   3   0   0]]\n",
      "             precision    recall  f1-score   support\n",
      "\n",
      "          3       0.00      0.00      0.00         1\n",
      "          4       0.00      0.00      0.00         4\n",
      "          5       0.61      0.72      0.66       145\n",
      "          6       0.46      0.50      0.48       121\n",
      "          7       0.79      0.24      0.37        46\n",
      "          8       0.00      0.00      0.00         3\n",
      "\n",
      "avg / total       0.56      0.55      0.53       320\n",
      "\n"
     ]
    },
    {
     "name": "stderr",
     "output_type": "stream",
     "text": [
      "C:\\Users\\EEIE\\Anaconda3\\lib\\site-packages\\sklearn\\metrics\\classification.py:1135: UndefinedMetricWarning: Precision and F-score are ill-defined and being set to 0.0 in labels with no predicted samples.\n",
      "  'precision', 'predicted', average, warn_for)\n"
     ]
    }
   ],
   "source": [
    "mlp= MLPClassifier(hidden_layer_sizes=(4),activation=\"tanh\",max_iter=500)\n",
    "mlp.fit(X_train_scaled,y_train)\n",
    "\n",
    "predict= mlp.predict(X_test_scaled)\n",
    "print(confusion_matrix(y_test,predict))\n",
    "print(classification_report(y_test,predict))"
   ]
  },
  {
   "cell_type": "code",
   "execution_count": 6,
   "metadata": {},
   "outputs": [
    {
     "data": {
      "image/png": "[encoded data removed]",
      "text/plain": [
       "<matplotlib.figure.Figure at 0x23dbf250320>"
      ]
     },
     "metadata": {},
     "output_type": "display_data"
    }
   ],
   "source": [
    "plt.plot(y_test[:40], label='Valor real')\n",
    "plt.plot(predict[:40], label='Predicción')\n",
    "plt.title(\"Valor observado vs pronóstico\")\n",
    "plt.ylabel('error')\n",
    "plt.legend(loc=2)\n",
    "plt.show()"
   ]
  },
  {
   "cell_type": "markdown",
   "metadata": {},
   "source": [
    "precision= del total pronósticado cuantos realmente correspondian a esa \n",
    "categoría 107/176=0.61. Para recall son cuantos se pronosticaron de esa \n",
    "categoria y realmente pertenecian a ella"
   ]
  },
  {
   "cell_type": "markdown",
   "metadata": {},
   "source": [
    "Pesos sinápticos y umbrales"
   ]
  },
  {
   "cell_type": "code",
   "execution_count": 8,
   "metadata": {},
   "outputs": [
    {
     "name": "stdout",
     "output_type": "stream",
     "text": [
      "Pesos sinápticos en las capas:\n",
      "[array([[ 0.50174862,  0.34605031, -0.31230209, -0.16819965],\n",
      "       [ 0.39071927, -0.13027458,  0.41109966, -0.27724883],\n",
      "       [ 0.31710298, -0.03624049, -0.01252836,  0.09246619],\n",
      "       [ 0.32381515,  0.24014784, -0.15610168,  0.04522714],\n",
      "       [-0.3253832 , -0.16774001,  0.2755247 , -0.2864816 ],\n",
      "       [-0.39790633, -0.12357005, -0.19347791, -0.25351706],\n",
      "       [-0.12314706, -0.2786867 ,  0.23038977,  0.56205478],\n",
      "       [-0.40850611, -0.27814098,  0.48626535, -0.20723504],\n",
      "       [ 0.55035211,  0.12991849,  0.11998581, -0.3042059 ],\n",
      "       [-0.59349015,  0.0776758 , -0.5959301 , -0.017186  ],\n",
      "       [-0.22117296,  0.55431721, -0.44156704,  0.09774944]]), array([[ 1.16068952,  1.62082428,  0.27165841, -0.87189336, -0.12425689,\n",
      "         0.93716258],\n",
      "       [-0.33830234, -0.66933287, -1.02738941,  0.88345597,  1.43391163,\n",
      "        -0.62612242],\n",
      "       [ 0.32089051,  0.76956456,  1.19347779,  0.61297725, -1.21306321,\n",
      "        -1.61736509],\n",
      "       [-1.99723962, -0.31502428,  1.03311828,  0.66047491, -0.070525  ,\n",
      "        -0.34183869]])]\n",
      "Umbrales:\n",
      "[array([-0.69769536,  0.63875981,  0.82570596,  1.08753589]), array([-1.03587299, -0.13701897,  1.16053727,  0.65314449, -0.1884262 ,\n",
      "       -0.15555175])]\n"
     ]
    }
   ],
   "source": [
    "pesos=mlp.coefs_\n",
    "umbrales=mlp.intercepts_\n",
    "print(\"Pesos sinápticos en las capas:\")\n",
    "print(pesos)\n",
    "\n",
    "print(\"Umbrales:\")\n",
    "print(umbrales)\n"
   ]
  }
 ],
 "metadata": {
  "kernelspec": {
   "display_name": "Python 3",
   "language": "python",
   "name": "python3"
  },
  "language_info": {
   "codemirror_mode": {
    "name": "ipython",
    "version": 3
   },
   "file_extension": ".py",
   "mimetype": "text/x-python",
   "name": "python",
   "nbconvert_exporter": "python",
   "pygments_lexer": "ipython3",
   "version": "3.6.3"
  }
 },
 "nbformat": 4,
 "nbformat_minor": 2
}
