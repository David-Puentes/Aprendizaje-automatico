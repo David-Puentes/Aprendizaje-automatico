{
 "cells": [
  {
   "cell_type": "markdown",
   "metadata": {},
   "source": [
    "Importar librerias"
   ]
  },
  {
   "cell_type": "code",
   "execution_count": 30,
   "metadata": {
    "collapsed": true
   },
   "outputs": [],
   "source": [
    "import numpy as np\n",
    "import pandas as pd\n",
    "import matplotlib.pyplot as plt\n",
    "from matplotlib.colors import ListedColormap\n",
    "from sklearn import preprocessing\n",
    "import seaborn as sns\n",
    "from sklearn.externals.six import StringIO\n",
    "from sklearn.model_selection import train_test_split\n",
    "from sklearn.metrics import classification_report, confusion_matrix\n",
    "from sklearn.discriminant_analysis import LinearDiscriminantAnalysis "
   ]
  },
  {
   "cell_type": "markdown",
   "metadata": {},
   "source": [
    "Cargar los datos y normalizarlos"
   ]
  },
  {
   "cell_type": "code",
   "execution_count": 29,
   "metadata": {
    "collapsed": true
   },
   "outputs": [],
   "source": [
    "r=r'winequality-red.csv'\n",
    "Datos=pd.read_csv(r,sep=\";\")\n",
    "nombres=Datos.columns"
   ]
  },
  {
   "cell_type": "code",
   "execution_count": 3,
   "metadata": {
    "collapsed": true
   },
   "outputs": [],
   "source": [
    "X=Datos.drop(\"quality\",axis=1).values\n",
    "y=Datos[\"quality\"].values\n",
    "X_train,X_test,y_train,y_test=train_test_split(X,y,test_size=0.2,\n",
    "                                               random_state=127)"
   ]
  },
  {
   "cell_type": "code",
   "execution_count": 4,
   "metadata": {
    "collapsed": true
   },
   "outputs": [],
   "source": [
    "scaler=preprocessing.StandardScaler().fit(X_train)\n",
    "X_train_scaled=scaler.transform(X_train)\n",
    "X_test_scaled= scaler.transform(X_test)"
   ]
  },
  {
   "cell_type": "markdown",
   "metadata": {},
   "source": [
    "Entrenar el modelo de aprendizaje e identificación de variables"
   ]
  },
  {
   "cell_type": "code",
   "execution_count": 26,
   "metadata": {
    "collapsed": true
   },
   "outputs": [],
   "source": [
    "lda= LinearDiscriminantAnalysis(solver=\"eigen\")\n",
    "X_r2=lda.fit(X_train_scaled,y_train).transform(X_train_scaled)"
   ]
  },
  {
   "cell_type": "code",
   "execution_count": 27,
   "metadata": {},
   "outputs": [
    {
     "name": "stdout",
     "output_type": "stream",
     "text": [
      "Factores de ponderación\n",
      "   fixed acidity  volatile acidity  citric acid  residual sugar  chlorides  \\\n",
      "3       0.187925          0.965470     0.332786        0.041144   0.467235   \n",
      "4       0.196834          0.628062     0.252120        0.155671   0.163834   \n",
      "5      -0.125813          0.193745     0.045487       -0.043712   0.132448   \n",
      "6       0.016013         -0.131182    -0.064411       -0.014979  -0.053542   \n",
      "7       0.286587         -0.398091    -0.032710        0.136425  -0.299001   \n",
      "8       0.253956         -0.485994     0.044395        0.177661  -0.447427   \n",
      "\n",
      "   free sulfur dioxide  total sulfur dioxide   density        pH  sulphates  \\\n",
      "3            -0.042160             -0.041843 -0.042524  0.523448  -0.444609   \n",
      "4            -0.183015              0.098197 -0.247455  0.404267  -0.147216   \n",
      "5            -0.114653              0.282209  0.113997  0.052140  -0.275111   \n",
      "6             0.078641             -0.153413  0.014412 -0.042383   0.118167   \n",
      "7             0.155490             -0.415380 -0.324923 -0.138953   0.535759   \n",
      "8             0.273935             -0.657074 -0.416714 -0.349024   0.756779   \n",
      "\n",
      "    alcohol  \n",
      "3 -0.786014  \n",
      "4 -0.473882  \n",
      "5 -0.439933  \n",
      "6  0.211687  \n",
      "7  0.834035  \n",
      "8  1.367391  \n"
     ]
    }
   ],
   "source": [
    "# Variables más importantes en la clasificación\n",
    "print(\"Factores de ponderación\")\n",
    "print(pd.DataFrame(lda.coef_,columns=nombres[:-1],index=[3,4,5,6,7,8]))"
   ]
  },
  {
   "cell_type": "markdown",
   "metadata": {},
   "source": [
    "Clasificación de las nuevas observaciones"
   ]
  },
  {
   "cell_type": "code",
   "execution_count": 28,
   "metadata": {},
   "outputs": [
    {
     "name": "stdout",
     "output_type": "stream",
     "text": [
      "[[  1   0   0   0   0   0]\n",
      " [  0   0   0   0   0   0]\n",
      " [  0   8 112  43   3   0]\n",
      " [  0   4  31  69  22   2]\n",
      " [  0   0   0  10  14   1]\n",
      " [  0   0   0   0   0   0]]\n",
      "             precision    recall  f1-score   support\n",
      "\n",
      "          3       1.00      1.00      1.00         1\n",
      "          4       0.00      0.00      0.00        12\n",
      "          5       0.67      0.78      0.72       143\n",
      "          6       0.54      0.57      0.55       122\n",
      "          7       0.56      0.36      0.44        39\n",
      "          8       0.00      0.00      0.00         3\n",
      "\n",
      "avg / total       0.58      0.61      0.59       320\n",
      "\n"
     ]
    },
    {
     "name": "stderr",
     "output_type": "stream",
     "text": [
      "C:\\Users\\EEIE\\Anaconda3\\lib\\site-packages\\sklearn\\metrics\\classification.py:1135: UndefinedMetricWarning: Precision and F-score are ill-defined and being set to 0.0 in labels with no predicted samples.\n",
      "  'precision', 'predicted', average, warn_for)\n"
     ]
    }
   ],
   "source": [
    "predict=lda.predict(X_test_scaled)\n",
    "\n",
    "print(confusion_matrix(predict,y_test))\n",
    "print(classification_report(y_test,predict))"
   ]
  },
  {
   "cell_type": "markdown",
   "metadata": {},
   "source": [
    "Ilustración de resultados"
   ]
  },
  {
   "cell_type": "code",
   "execution_count": 9,
   "metadata": {},
   "outputs": [
    {
     "data": {
      "image/png": "[encoded data removed]",
      "text/plain": [
       "<matplotlib.figure.Figure at 0x22016df7e10>"
      ]
     },
     "metadata": {},
     "output_type": "display_data"
    }
   ],
   "source": [
    "current_palette = sns.color_palette(\"muted\", n_colors=5)\n",
    "cmap = ListedColormap(sns.color_palette(current_palette).as_hex())\n",
    "colors = np.random.randint(0,5,120)\n",
    "\n",
    "plt.hist([predict,y_test],label=[\"Valor pronosticado\",\"Valor real\"])\n",
    "plt.legend(loc=0)\n",
    "plt.ylabel(\"Frecuencia\")\n",
    "plt.xlabel(\"Clases\")\n",
    "plt.savefig(\"Error_lda\")\n",
    "plt.show()\n"
   ]
  }
 ],
 "metadata": {
  "kernelspec": {
   "display_name": "Python 3",
   "language": "python",
   "name": "python3"
  },
  "language_info": {
   "codemirror_mode": {
    "name": "ipython",
    "version": 3
   },
   "file_extension": ".py",
   "mimetype": "text/x-python",
   "name": "python",
   "nbconvert_exporter": "python",
   "pygments_lexer": "ipython3",
   "version": "3.6.1"
  }
 },
 "nbformat": 4,
 "nbformat_minor": 2
}
