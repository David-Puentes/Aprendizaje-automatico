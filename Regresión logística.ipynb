{
 "cells": [
  {
   "cell_type": "code",
   "execution_count": 1,
   "metadata": {
    "collapsed": true
   },
   "outputs": [],
   "source": [
    "import pandas as pd\n",
    "import numpy as np\n",
    "import matplotlib.pyplot as plt\n",
    "import seaborn as sns\n",
    "from sklearn.model_selection import train_test_split\n",
    "from sklearn import preprocessing\n",
    "from sklearn.feature_selection import RFE\n",
    "from sklearn.linear_model import LogisticRegression\n",
    "from sklearn.metrics import classification_report, confusion_matrix"
   ]
  },
  {
   "cell_type": "code",
   "execution_count": 2,
   "metadata": {
    "collapsed": true
   },
   "outputs": [],
   "source": [
    "r=\"winequality-red.csv\"\n",
    "datos=pd.read_csv(r,sep=\";\")\n",
    "nombres= datos.columns"
   ]
  },
  {
   "cell_type": "code",
   "execution_count": 3,
   "metadata": {
    "collapsed": true
   },
   "outputs": [],
   "source": [
    "X=datos.drop([\"quality\"],axis=1).values\n",
    "y=datos[\"quality\"].values\n",
    "X_train,X_test,y_train,y_test=train_test_split(X,y,test_size=0.2,\n",
    "                                               random_state=1234)"
   ]
  },
  {
   "cell_type": "code",
   "execution_count": 4,
   "metadata": {
    "collapsed": true
   },
   "outputs": [],
   "source": [
    "scaler= preprocessing.StandardScaler().fit(X_train)\n",
    "X_train_scaled=scaler.transform(X_train)\n",
    "X_test_scaled=scaler.transform(X_test)"
   ]
  },
  {
   "cell_type": "markdown",
   "metadata": {},
   "source": [
    "Entrenamiento del modelo"
   ]
  },
  {
   "cell_type": "code",
   "execution_count": 5,
   "metadata": {},
   "outputs": [
    {
     "data": {
      "text/plain": [
       "LogisticRegression(C=1.0, class_weight=None, dual=False, fit_intercept=True,\n",
       "          intercept_scaling=1, max_iter=100, multi_class='ovr', n_jobs=1,\n",
       "          penalty='l2', random_state=None, solver='liblinear', tol=0.0001,\n",
       "          verbose=0, warm_start=False)"
      ]
     },
     "execution_count": 5,
     "metadata": {},
     "output_type": "execute_result"
    }
   ],
   "source": [
    "logreg=LogisticRegression()\n",
    "logreg.fit(X_train_scaled,y_train)"
   ]
  },
  {
   "cell_type": "code",
   "execution_count": 6,
   "metadata": {},
   "outputs": [
    {
     "name": "stdout",
     "output_type": "stream",
     "text": [
      "Coeficientes de regresión\n"
     ]
    },
    {
     "data": {
      "text/html": [
       "<div>\n",
       "<style>\n",
       "    .dataframe thead tr:only-child th {\n",
       "        text-align: right;\n",
       "    }\n",
       "\n",
       "    .dataframe thead th {\n",
       "        text-align: left;\n",
       "    }\n",
       "\n",
       "    .dataframe tbody tr th {\n",
       "        vertical-align: top;\n",
       "    }\n",
       "</style>\n",
       "<table border=\"1\" class=\"dataframe\">\n",
       "  <thead>\n",
       "    <tr style=\"text-align: right;\">\n",
       "      <th></th>\n",
       "      <th>fixed acidity</th>\n",
       "      <th>volatile acidity</th>\n",
       "      <th>citric acid</th>\n",
       "      <th>residual sugar</th>\n",
       "      <th>chlorides</th>\n",
       "      <th>free sulfur dioxide</th>\n",
       "      <th>total sulfur dioxide</th>\n",
       "      <th>density</th>\n",
       "      <th>pH</th>\n",
       "      <th>sulphates</th>\n",
       "      <th>alcohol</th>\n",
       "    </tr>\n",
       "  </thead>\n",
       "  <tbody>\n",
       "    <tr>\n",
       "      <th>3</th>\n",
       "      <td>0.267243</td>\n",
       "      <td>0.768151</td>\n",
       "      <td>0.225896</td>\n",
       "      <td>-0.090644</td>\n",
       "      <td>0.391828</td>\n",
       "      <td>0.328600</td>\n",
       "      <td>-0.653520</td>\n",
       "      <td>0.320498</td>\n",
       "      <td>0.331306</td>\n",
       "      <td>-0.352129</td>\n",
       "      <td>-0.290057</td>\n",
       "    </tr>\n",
       "    <tr>\n",
       "      <th>4</th>\n",
       "      <td>0.757034</td>\n",
       "      <td>0.528838</td>\n",
       "      <td>-0.031150</td>\n",
       "      <td>0.424698</td>\n",
       "      <td>-0.255252</td>\n",
       "      <td>-0.346795</td>\n",
       "      <td>-0.163783</td>\n",
       "      <td>-0.776771</td>\n",
       "      <td>0.665021</td>\n",
       "      <td>-0.440351</td>\n",
       "      <td>-0.696033</td>\n",
       "    </tr>\n",
       "    <tr>\n",
       "      <th>5</th>\n",
       "      <td>-0.467620</td>\n",
       "      <td>0.275033</td>\n",
       "      <td>0.087204</td>\n",
       "      <td>-0.165863</td>\n",
       "      <td>0.133918</td>\n",
       "      <td>-0.161202</td>\n",
       "      <td>0.527359</td>\n",
       "      <td>0.461032</td>\n",
       "      <td>-0.168587</td>\n",
       "      <td>-0.386842</td>\n",
       "      <td>-0.693670</td>\n",
       "    </tr>\n",
       "    <tr>\n",
       "      <th>6</th>\n",
       "      <td>-0.098953</td>\n",
       "      <td>-0.318438</td>\n",
       "      <td>-0.216928</td>\n",
       "      <td>-0.154447</td>\n",
       "      <td>-0.001268</td>\n",
       "      <td>0.220657</td>\n",
       "      <td>-0.332941</td>\n",
       "      <td>0.213010</td>\n",
       "      <td>0.006593</td>\n",
       "      <td>0.120127</td>\n",
       "      <td>0.331787</td>\n",
       "    </tr>\n",
       "    <tr>\n",
       "      <th>7</th>\n",
       "      <td>0.544402</td>\n",
       "      <td>-0.536065</td>\n",
       "      <td>-0.046053</td>\n",
       "      <td>0.344629</td>\n",
       "      <td>-0.420865</td>\n",
       "      <td>0.118304</td>\n",
       "      <td>-0.486179</td>\n",
       "      <td>-0.428498</td>\n",
       "      <td>0.047140</td>\n",
       "      <td>0.480401</td>\n",
       "      <td>0.686402</td>\n",
       "    </tr>\n",
       "    <tr>\n",
       "      <th>8</th>\n",
       "      <td>-0.478459</td>\n",
       "      <td>0.014924</td>\n",
       "      <td>0.509182</td>\n",
       "      <td>0.039656</td>\n",
       "      <td>-0.479061</td>\n",
       "      <td>0.179016</td>\n",
       "      <td>-0.694754</td>\n",
       "      <td>-0.092626</td>\n",
       "      <td>-0.638551</td>\n",
       "      <td>0.384492</td>\n",
       "      <td>0.679629</td>\n",
       "    </tr>\n",
       "  </tbody>\n",
       "</table>\n",
       "</div>"
      ],
      "text/plain": [
       "   fixed acidity  volatile acidity  citric acid  residual sugar  chlorides  \\\n",
       "3       0.267243          0.768151     0.225896       -0.090644   0.391828   \n",
       "4       0.757034          0.528838    -0.031150        0.424698  -0.255252   \n",
       "5      -0.467620          0.275033     0.087204       -0.165863   0.133918   \n",
       "6      -0.098953         -0.318438    -0.216928       -0.154447  -0.001268   \n",
       "7       0.544402         -0.536065    -0.046053        0.344629  -0.420865   \n",
       "8      -0.478459          0.014924     0.509182        0.039656  -0.479061   \n",
       "\n",
       "   free sulfur dioxide  total sulfur dioxide   density        pH  sulphates  \\\n",
       "3             0.328600             -0.653520  0.320498  0.331306  -0.352129   \n",
       "4            -0.346795             -0.163783 -0.776771  0.665021  -0.440351   \n",
       "5            -0.161202              0.527359  0.461032 -0.168587  -0.386842   \n",
       "6             0.220657             -0.332941  0.213010  0.006593   0.120127   \n",
       "7             0.118304             -0.486179 -0.428498  0.047140   0.480401   \n",
       "8             0.179016             -0.694754 -0.092626 -0.638551   0.384492   \n",
       "\n",
       "    alcohol  \n",
       "3 -0.290057  \n",
       "4 -0.696033  \n",
       "5 -0.693670  \n",
       "6  0.331787  \n",
       "7  0.686402  \n",
       "8  0.679629  "
      ]
     },
     "execution_count": 6,
     "metadata": {},
     "output_type": "execute_result"
    }
   ],
   "source": [
    "logreg.coef_\n",
    "coef=pd.DataFrame(logreg.coef_, columns=nombres[:-1],index=[3,4,5,6,7,8])\n",
    "print(\"Coeficientes de regresión\")\n",
    "coef"
   ]
  },
  {
   "cell_type": "markdown",
   "metadata": {},
   "source": [
    "Prueba y evaluación de desempeño del modelo"
   ]
  },
  {
   "cell_type": "code",
   "execution_count": 7,
   "metadata": {},
   "outputs": [
    {
     "name": "stdout",
     "output_type": "stream",
     "text": [
      "[[  0   1   1   0   0   0]\n",
      " [  0   0   4   3   1   0]\n",
      " [  0   0 114  24   0   0]\n",
      " [  0   0  41  88   2   0]\n",
      " [  0   0   4  32   3   0]\n",
      " [  0   0   0   2   0   0]]\n",
      "             precision    recall  f1-score   support\n",
      "\n",
      "          3       0.00      0.00      0.00         2\n",
      "          4       0.00      0.00      0.00         8\n",
      "          5       0.70      0.83      0.75       138\n",
      "          6       0.59      0.67      0.63       131\n",
      "          7       0.50      0.08      0.13        39\n",
      "          8       0.00      0.00      0.00         2\n",
      "\n",
      "avg / total       0.60      0.64      0.60       320\n",
      "\n"
     ]
    },
    {
     "name": "stderr",
     "output_type": "stream",
     "text": [
      "C:\\Users\\TOSHIBA-PC\\Anaconda3\\lib\\site-packages\\sklearn\\metrics\\classification.py:1113: UndefinedMetricWarning: Precision and F-score are ill-defined and being set to 0.0 in labels with no predicted samples.\n",
      "  'precision', 'predicted', average, warn_for)\n"
     ]
    }
   ],
   "source": [
    "predict=logreg.predict(X_test_scaled)\n",
    "print(confusion_matrix(y_test,predict))\n",
    "print(classification_report(y_test,predict))"
   ]
  },
  {
   "cell_type": "code",
   "execution_count": 8,
   "metadata": {},
   "outputs": [
    {
     "data": {
      "image/png": "[encoded data removed]",
      "text/plain": [
       "<matplotlib.figure.Figure at 0x23e224cf710>"
      ]
     },
     "metadata": {},
     "output_type": "display_data"
    }
   ],
   "source": [
    "plt.hist([y_test,predict],label=[\"Valor pronosticado\",\"Valor real\"])\n",
    "plt.title(\"Valor observado vs pronóstico\")\n",
    "plt.ylabel('Frecuencia')\n",
    "plt.xlabel(\"Clase\")\n",
    "plt.legend(loc=0)\n",
    "#plt.savefig(\"Error_logre\")\n",
    "plt.show()"
   ]
  },
  {
   "cell_type": "markdown",
   "metadata": {},
   "source": [
    "Selección de características"
   ]
  },
  {
   "cell_type": "code",
   "execution_count": 9,
   "metadata": {
    "scrolled": true
   },
   "outputs": [
    {
     "name": "stdout",
     "output_type": "stream",
     "text": [
      "Listado de las variables:\n",
      "                      Importancia\n",
      "volatile acidity                1\n",
      "chlorides                       1\n",
      "total sulfur dioxide            1\n",
      "sulphates                       1\n",
      "alcohol                         1\n",
      "pH                              2\n",
      "fixed acidity                   3\n",
      "citric acid                     4\n",
      "density                         5\n",
      "residual sugar                  6\n",
      "free sulfur dioxide             7\n"
     ]
    }
   ],
   "source": [
    "rfe= RFE(logreg)\n",
    "ref=rfe.fit(X_train_scaled,y_train)\n",
    "car=pd.DataFrame(ref.ranking_,index=nombres[:-1],columns=[\"Importancia\"])\n",
    "print(\"Listado de las variables:\")\n",
    "print(car.sort_values(by=\"Importancia\"))"
   ]
  },
  {
   "cell_type": "markdown",
   "metadata": {},
   "source": [
    "Incluyendo las variable identificadas como influyentes"
   ]
  },
  {
   "cell_type": "code",
   "execution_count": 10,
   "metadata": {},
   "outputs": [
    {
     "name": "stdout",
     "output_type": "stream",
     "text": [
      "[[  0   0   2   0   0   0]\n",
      " [  0   0   4   4   0   0]\n",
      " [  0   0 116  22   0   0]\n",
      " [  0   0  46  84   1   0]\n",
      " [  0   0   4  31   4   0]\n",
      " [  0   0   0   1   1   0]]\n",
      "             precision    recall  f1-score   support\n",
      "\n",
      "          3       0.00      0.00      0.00         2\n",
      "          4       0.00      0.00      0.00         8\n",
      "          5       0.67      0.84      0.75       138\n",
      "          6       0.59      0.64      0.62       131\n",
      "          7       0.67      0.10      0.18        39\n",
      "          8       0.00      0.00      0.00         2\n",
      "\n",
      "avg / total       0.61      0.64      0.60       320\n",
      "\n"
     ]
    },
    {
     "name": "stderr",
     "output_type": "stream",
     "text": [
      "C:\\Users\\TOSHIBA-PC\\Anaconda3\\lib\\site-packages\\sklearn\\metrics\\classification.py:1113: UndefinedMetricWarning: Precision and F-score are ill-defined and being set to 0.0 in labels with no predicted samples.\n",
      "  'precision', 'predicted', average, warn_for)\n"
     ]
    }
   ],
   "source": [
    "Best=ref.ranking_==1\n",
    "K=[]\n",
    "for i in range(0,len(X)):\n",
    "    K.append(X[i][Best])\n",
    "X_new=np.asarray(K)\n",
    "\n",
    "X_train2,X_test2=train_test_split(X_new,test_size=0.2,random_state=1234)\n",
    "scaler2= preprocessing.StandardScaler().fit(X_train2)\n",
    "X_train_scaled2=scaler2.transform(X_train2)\n",
    "X_test_scaled2=scaler2.transform(X_test2)\n",
    "X_test_scaled2\n",
    "\n",
    "# Predicción con los mejores\n",
    "\n",
    "logreg2=LogisticRegression()\n",
    "logreg2.fit(X_train_scaled2,y_train)\n",
    "\n",
    "predict2=logreg2.predict(X_test_scaled2)\n",
    "print(confusion_matrix(y_test,predict2))\n",
    "print(classification_report(y_test,predict2))"
   ]
  },
  {
   "cell_type": "code",
   "execution_count": 14,
   "metadata": {},
   "outputs": [
    {
     "data": {
      "image/png": "[encoded data removed]",
      "text/plain": [
       "<matplotlib.figure.Figure at 0x23e22ab8518>"
      ]
     },
     "metadata": {},
     "output_type": "display_data"
    }
   ],
   "source": [
    "plt.hist([y_test,predict2],label=[\"Valor pronosticado\",\"Valor real\"])\n",
    "plt.title(\"Valor observado vs pronóstico\")\n",
    "plt.ylabel('error')\n",
    "plt.legend(loc=0)\n",
    "plt.show()"
   ]
  }
 ],
 "metadata": {
  "kernelspec": {
   "display_name": "Python 3",
   "language": "python",
   "name": "python3"
  },
  "language_info": {
   "codemirror_mode": {
    "name": "ipython",
    "version": 3
   },
   "file_extension": ".py",
   "mimetype": "text/x-python",
   "name": "python",
   "nbconvert_exporter": "python",
   "pygments_lexer": "ipython3",
   "version": "3.6.1"
  }
 },
 "nbformat": 4,
 "nbformat_minor": 2
}
