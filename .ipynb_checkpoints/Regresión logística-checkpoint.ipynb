{
 "cells": [
  {
   "cell_type": "code",
   "execution_count": 7,
   "metadata": {},
   "outputs": [
    {
     "data": {
      "text/plain": [
       "array([[ 0.91607419,  2.71320644,  0.88722913],\n",
       "       [ 0.77153052,  0.29672809,  0.71546519],\n",
       "       [ 0.74650866,  1.5853266 ,  0.6952211 ],\n",
       "       ..., \n",
       "       [-0.7922951 ,  1.7854376 , -0.78444678],\n",
       "       [ 2.56755853, -1.84389882,  1.21077653],\n",
       "       [ 0.04277673,  1.51840817, -0.8076367 ]])"
      ]
     },
     "execution_count": 7,
     "metadata": {},
     "output_type": "execute_result"
    }
   ],
   "source": [
    "from sklearn.datasets import make_classification\n",
    "nb_samples = 500\n",
    "X, Y = make_classification(n_samples=nb_samples, n_features=3,\n",
    "                           n_informative=3, n_redundant=0, n_classes=3, n_clusters_per_class=1)\n",
    "make_classification()"
   ]
  }
 ],
 "metadata": {
  "kernelspec": {
   "display_name": "Python 3",
   "language": "python",
   "name": "python3"
  },
  "language_info": {
   "codemirror_mode": {
    "name": "ipython",
    "version": 3
   },
   "file_extension": ".py",
   "mimetype": "text/x-python",
   "name": "python",
   "nbconvert_exporter": "python",
   "pygments_lexer": "ipython3",
   "version": "3.6.3"
  }
 },
 "nbformat": 4,
 "nbformat_minor": 2
}
