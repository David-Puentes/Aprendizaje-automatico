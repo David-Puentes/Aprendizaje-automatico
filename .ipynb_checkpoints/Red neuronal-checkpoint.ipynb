{
 "cells": [
  {
   "cell_type": "code",
   "execution_count": 1,
   "metadata": {},
   "outputs": [],
   "source": [
    "import pandas as pd\n",
    "import numpy as np\n",
    "import matplotlib.pyplot as plt"
   ]
  },
  {
   "cell_type": "code",
   "execution_count": 68,
   "metadata": {},
   "outputs": [],
   "source": [
    "r=\"winequality-red.csv\"\n",
    "datos=pd.read_csv(r,sep=\";\")\n",
    "x=datos.drop([\"alcohol\",\"quality\"],axis=1).values\n",
    "x = np.column_stack((x, np.ones(x.shape[0])*-1))\n",
    "y=datos[\"alcohol\"].values\n",
    "y=y.reshape(1599,1)\n",
    "np.random.seed(1)"
   ]
  },
  {
   "cell_type": "code",
   "execution_count": 88,
   "metadata": {},
   "outputs": [
    {
     "name": "stdout",
     "output_type": "stream",
     "text": [
      "Error: 10.079169134293416\n"
     ]
    },
    {
     "name": "stderr",
     "output_type": "stream",
     "text": [
      "C:\\Users\\EEIE\\Anaconda3\\lib\\site-packages\\ipykernel_launcher.py:5: RuntimeWarning: overflow encountered in exp\n",
      "  \"\"\"\n"
     ]
    },
    {
     "name": "stdout",
     "output_type": "stream",
     "text": [
      "Error: 9.422983114446529\n"
     ]
    }
   ],
   "source": [
    "# Definición de la función de transferencia\n",
    "def sigmoid ( x,deriv=False):\n",
    "    if deriv == True:\n",
    "        return x*(1-x)\n",
    "    return 1/(1+np.exp(-x))\n",
    "\n",
    "# Definición de los pesos iniciales\n",
    "\n",
    "w0 = 2*np.random.random((10,3)) - 1 # Entrada-Oculta\n",
    "w0 = np.row_stack((w0, np.ones(3)*-1))\n",
    "\n",
    "w1=2*np.random.random((3,1))-1 # Oculta-Salida\n",
    "a=[]\n",
    "for i in range(2000):\n",
    "    l0=x\n",
    "    l1=sigmoid(np.dot(l0,w0))\n",
    "    l2=sigmoid(np.dot(l1,w1))\n",
    "    \n",
    "    l2_error= y-l2\n",
    "    \n",
    "    if (i%1000)==0:\n",
    "        a.append(np.mean(np.abs(l2_error)))\n",
    "        print(f'Error: {np.mean(np.abs(l2_error))}')\n",
    "    l2_delta=l2_error*sigmoid(l2,deriv=True)\n",
    "    \n",
    "    # Contribución de L1 a L2\n",
    "    \n",
    "    l1_error=np.dot(l2_delta,w1.T)\n",
    "    l1_delta=l1_error*sigmoid(l1,deriv=True)\n",
    "    \n",
    "    # Actualización de pesos\n",
    "    \n",
    "    w1+=np.dot(l1.T,l2_delta)\n",
    "    w0+=np.dot(l0.T, l1_delta)\n",
    "\n",
    "#print(\"Despúes de entrenar\")"
   ]
  },
  {
   "cell_type": "code",
   "execution_count": 84,
   "metadata": {},
   "outputs": [
    {
     "data": {
      "image/png": "[encoded data removed]",
      "text/plain": [
       "<matplotlib.figure.Figure at 0x19640052a20>"
      ]
     },
     "metadata": {},
     "output_type": "display_data"
    }
   ],
   "source": [
    "plt.plot(a)\n",
    "plt.show()"
   ]
  },
  {
   "cell_type": "code",
   "execution_count": 11,
   "metadata": {},
   "outputs": [
    {
     "data": {
      "text/plain": [
       "(11, 3)"
      ]
     },
     "execution_count": 11,
     "metadata": {},
     "output_type": "execute_result"
    }
   ],
   "source": [
    "w0 = 2*np.random.random((10,3)) - 1 # Entrada-Oculta\n",
    "w0 = np.row_stack((w0, np.ones(3)*-1))\n",
    "w0.shape"
   ]
  }
 ],
 "metadata": {
  "kernelspec": {
   "display_name": "Python 3",
   "language": "python",
   "name": "python3"
  },
  "language_info": {
   "codemirror_mode": {
    "name": "ipython",
    "version": 3
   },
   "file_extension": ".py",
   "mimetype": "text/x-python",
   "name": "python",
   "nbconvert_exporter": "python",
   "pygments_lexer": "ipython3",
   "version": "3.6.3"
  }
 },
 "nbformat": 4,
 "nbformat_minor": 2
}
