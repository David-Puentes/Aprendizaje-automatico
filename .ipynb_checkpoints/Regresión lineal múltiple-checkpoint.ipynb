{
 "cells": [
  {
   "cell_type": "code",
   "execution_count": 153,
   "metadata": {},
   "outputs": [],
   "source": [
    "import pandas as pd\n",
    "import numpy as np\n",
    "import matplotlib.pyplot as plt\n",
    "from math import sqrt"
   ]
  },
  {
   "cell_type": "markdown",
   "metadata": {},
   "source": [
    "Importar datos"
   ]
  },
  {
   "cell_type": "code",
   "execution_count": 125,
   "metadata": {},
   "outputs": [
    {
     "data": {
      "text/html": [
       "<div>\n",
       "<style>\n",
       "    .dataframe thead tr:only-child th {\n",
       "        text-align: right;\n",
       "    }\n",
       "\n",
       "    .dataframe thead th {\n",
       "        text-align: left;\n",
       "    }\n",
       "\n",
       "    .dataframe tbody tr th {\n",
       "        vertical-align: top;\n",
       "    }\n",
       "</style>\n",
       "<table border=\"1\" class=\"dataframe\">\n",
       "  <thead>\n",
       "    <tr style=\"text-align: right;\">\n",
       "      <th></th>\n",
       "      <th>fixed acidity</th>\n",
       "      <th>volatile acidity</th>\n",
       "      <th>citric acid</th>\n",
       "      <th>residual sugar</th>\n",
       "      <th>chlorides</th>\n",
       "      <th>free sulfur dioxide</th>\n",
       "      <th>total sulfur dioxide</th>\n",
       "      <th>density</th>\n",
       "      <th>pH</th>\n",
       "      <th>sulphates</th>\n",
       "      <th>alcohol</th>\n",
       "      <th>quality</th>\n",
       "    </tr>\n",
       "  </thead>\n",
       "  <tbody>\n",
       "    <tr>\n",
       "      <th>0</th>\n",
       "      <td>7.4</td>\n",
       "      <td>0.70</td>\n",
       "      <td>0.00</td>\n",
       "      <td>1.9</td>\n",
       "      <td>0.076</td>\n",
       "      <td>11.0</td>\n",
       "      <td>34.0</td>\n",
       "      <td>0.9978</td>\n",
       "      <td>3.51</td>\n",
       "      <td>0.56</td>\n",
       "      <td>9.4</td>\n",
       "      <td>5</td>\n",
       "    </tr>\n",
       "    <tr>\n",
       "      <th>1</th>\n",
       "      <td>7.8</td>\n",
       "      <td>0.88</td>\n",
       "      <td>0.00</td>\n",
       "      <td>2.6</td>\n",
       "      <td>0.098</td>\n",
       "      <td>25.0</td>\n",
       "      <td>67.0</td>\n",
       "      <td>0.9968</td>\n",
       "      <td>3.20</td>\n",
       "      <td>0.68</td>\n",
       "      <td>9.8</td>\n",
       "      <td>5</td>\n",
       "    </tr>\n",
       "    <tr>\n",
       "      <th>2</th>\n",
       "      <td>7.8</td>\n",
       "      <td>0.76</td>\n",
       "      <td>0.04</td>\n",
       "      <td>2.3</td>\n",
       "      <td>0.092</td>\n",
       "      <td>15.0</td>\n",
       "      <td>54.0</td>\n",
       "      <td>0.9970</td>\n",
       "      <td>3.26</td>\n",
       "      <td>0.65</td>\n",
       "      <td>9.8</td>\n",
       "      <td>5</td>\n",
       "    </tr>\n",
       "    <tr>\n",
       "      <th>3</th>\n",
       "      <td>11.2</td>\n",
       "      <td>0.28</td>\n",
       "      <td>0.56</td>\n",
       "      <td>1.9</td>\n",
       "      <td>0.075</td>\n",
       "      <td>17.0</td>\n",
       "      <td>60.0</td>\n",
       "      <td>0.9980</td>\n",
       "      <td>3.16</td>\n",
       "      <td>0.58</td>\n",
       "      <td>9.8</td>\n",
       "      <td>6</td>\n",
       "    </tr>\n",
       "    <tr>\n",
       "      <th>4</th>\n",
       "      <td>7.4</td>\n",
       "      <td>0.70</td>\n",
       "      <td>0.00</td>\n",
       "      <td>1.9</td>\n",
       "      <td>0.076</td>\n",
       "      <td>11.0</td>\n",
       "      <td>34.0</td>\n",
       "      <td>0.9978</td>\n",
       "      <td>3.51</td>\n",
       "      <td>0.56</td>\n",
       "      <td>9.4</td>\n",
       "      <td>5</td>\n",
       "    </tr>\n",
       "  </tbody>\n",
       "</table>\n",
       "</div>"
      ],
      "text/plain": [
       "   fixed acidity  volatile acidity  citric acid  residual sugar  chlorides  \\\n",
       "0            7.4              0.70         0.00             1.9      0.076   \n",
       "1            7.8              0.88         0.00             2.6      0.098   \n",
       "2            7.8              0.76         0.04             2.3      0.092   \n",
       "3           11.2              0.28         0.56             1.9      0.075   \n",
       "4            7.4              0.70         0.00             1.9      0.076   \n",
       "\n",
       "   free sulfur dioxide  total sulfur dioxide  density    pH  sulphates  \\\n",
       "0                 11.0                  34.0   0.9978  3.51       0.56   \n",
       "1                 25.0                  67.0   0.9968  3.20       0.68   \n",
       "2                 15.0                  54.0   0.9970  3.26       0.65   \n",
       "3                 17.0                  60.0   0.9980  3.16       0.58   \n",
       "4                 11.0                  34.0   0.9978  3.51       0.56   \n",
       "\n",
       "   alcohol  quality  \n",
       "0      9.4        5  \n",
       "1      9.8        5  \n",
       "2      9.8        5  \n",
       "3      9.8        6  \n",
       "4      9.4        5  "
      ]
     },
     "execution_count": 125,
     "metadata": {},
     "output_type": "execute_result"
    }
   ],
   "source": [
    "r=\"winequality-red.csv\"\n",
    "datos=pd.read_csv(r,sep=\";\")\n",
    "datos.head()"
   ]
  },
  {
   "cell_type": "markdown",
   "metadata": {},
   "source": [
    "Definición de variables predictoras y a predecir"
   ]
  },
  {
   "cell_type": "code",
   "execution_count": 161,
   "metadata": {},
   "outputs": [
    {
     "data": {
      "text/plain": [
       "array([-0.96024611, -0.58477711, -0.58477711, ...,  0.54162988,\n",
       "       -0.20930812,  0.54162988])"
      ]
     },
     "execution_count": 161,
     "metadata": {},
     "output_type": "execute_result"
    }
   ],
   "source": [
    "X=datos.drop([\"alcohol\",\"quality\"],axis=1).values\n",
    "Y=datos[\"alcohol\"].values\n",
    "\n",
    "# Normalizar los datos\n",
    "\n",
    "nrows= len(X)\n",
    "ncols=len(X[0])\n",
    "\n",
    "# Medias y varianzas\n",
    "xMeans=[]\n",
    "xSD=[]\n",
    "for i in range(ncols):\n",
    "    col=[X[j][i] for j in range(nrows)]\n",
    "    mean=sum(col)/nrows\n",
    "    xMeans.append(mean)\n",
    "    colDiff= [(X[j][i]-mean) for j in range(nrows)]\n",
    "    sumSq=sum([colDiff[i]**2 for i in range(nrows)])\n",
    "    stdDev= sqrt(sumSq/nrows)\n",
    "    xSD.append(stdDev)\n",
    "\n",
    "# Uso de la media y desviación para normalizar\n",
    "XNormalized=[]\n",
    "for i in range(nrows):\n",
    "    rowNormalized=[(X[i][j]-xMeans[j])/xSD[j] for j in range(ncols)]\n",
    "    XNormalized.append(rowNormalized)\n",
    "\n",
    "# Normalización de las etiquetas\n",
    "meanLabel=sum(Y)/nrows\n",
    "sdLabel=sqrt(sum([(Y[i]-meanLabel)**2 for i in range(nrows)])/nrows)\n",
    "\n",
    "YNormalized=[(Y[i]-meanLabel)/sdLabel for i in range(nrows)]\n",
    "\n",
    "\n",
    "X= np.array(XNormalized)\n",
    "Y= np.array(YNormalized)\n",
    "X= np.insert(X,0,1,axis=1) # Asignación de una columna de 1 para el b0\n",
    "n=len(X[0]) # Número de variables\n",
    "\n",
    "# Genearación de betas iniciales\n",
    "B=np.zeros(n)\n",
    "alpha=0.001                             # Tasa de aprendizaje\n",
    "Y"
   ]
  },
  {
   "cell_type": "markdown",
   "metadata": {},
   "source": [
    "Definición de la función costo y gradiente"
   ]
  },
  {
   "cell_type": "code",
   "execution_count": 99,
   "metadata": {},
   "outputs": [],
   "source": [
    "# Función costo\n",
    "def costo(X,Y,B):\n",
    "    m=len(Y)\n",
    "    J=np.sum((X.dot(B)-Y)**2)/(2*m)\n",
    "    return J\n",
    "\n",
    "# Gradiente\n",
    "def grad(X,Y,B,alpha,iterations):\n",
    "    cost_hist=[0]*iterations\n",
    "    m=len(Y)\n",
    "    for i in range(iterations):\n",
    "        h=X.dot(B)\n",
    "        loss= h-Y\n",
    "        gradient= X.T.dot(loss)/m\n",
    "        B=B-alpha*gradient\n",
    "        cost=costo(X,Y,B)\n",
    "        cost_hist[i]=cost\n",
    "    return B, cost_hist"
   ]
  },
  {
   "cell_type": "code",
   "execution_count": 148,
   "metadata": {},
   "outputs": [
    {
     "name": "stdout",
     "output_type": "stream",
     "text": [
      "[  -27.48075848  -224.98328606   -14.73306825    -7.56067839   -75.20003407\n",
      "    -2.44315915  -573.98035107 -1880.2000656    -27.39377002   -90.82146679\n",
      "   -18.22981711]\n",
      "7069383281.39\n"
     ]
    }
   ],
   "source": [
    "newB, cost_hist= grad(M,Y,B1,alpha,10)\n",
    "print (newB)\n",
    "print(cost_hist[-1])"
   ]
  }
 ],
 "metadata": {
  "kernelspec": {
   "display_name": "Python 3",
   "language": "python",
   "name": "python3"
  },
  "language_info": {
   "codemirror_mode": {
    "name": "ipython",
    "version": 3
   },
   "file_extension": ".py",
   "mimetype": "text/x-python",
   "name": "python",
   "nbconvert_exporter": "python",
   "pygments_lexer": "ipython3",
   "version": "3.6.3"
  }
 },
 "nbformat": 4,
 "nbformat_minor": 2
}
