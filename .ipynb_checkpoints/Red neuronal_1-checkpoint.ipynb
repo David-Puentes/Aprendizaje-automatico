{
 "cells": [
  {
   "cell_type": "code",
   "execution_count": 1,
   "metadata": {},
   "outputs": [],
   "source": [
    "import pandas as pd\n",
    "import numpy as np\n",
    "import matplotlib.pyplot as plt\n",
    "from sklearn.model_selection import train_test_split\n",
    "from sklearn.feature_selection import RFE\n",
    "from sklearn import preprocessing\n",
    "from sklearn.neural_network import MLPClassifier\n",
    "from sklearn.metrics import classification_report, confusion_matrix, r2_score"
   ]
  },
  {
   "cell_type": "code",
   "execution_count": 2,
   "metadata": {},
   "outputs": [],
   "source": [
    "r=\"winequality-red.csv\"\n",
    "datos=pd.read_csv(r,sep=\";\")"
   ]
  },
  {
   "cell_type": "code",
   "execution_count": 3,
   "metadata": {},
   "outputs": [
    {
     "data": {
      "text/plain": [
       "(320, 11)"
      ]
     },
     "execution_count": 3,
     "metadata": {},
     "output_type": "execute_result"
    }
   ],
   "source": [
    "X=datos.drop([\"quality\"],axis=1).values\n",
    "y=datos[\"quality\"].values\n",
    "X_train,X_test,y_train,y_test=train_test_split(X,y,test_size=0.2,\n",
    "                                               random_state=397)\n",
    "X_test.shape"
   ]
  },
  {
   "cell_type": "markdown",
   "metadata": {},
   "source": [
    "Normalización de los datos"
   ]
  },
  {
   "cell_type": "code",
   "execution_count": 4,
   "metadata": {},
   "outputs": [],
   "source": [
    "scaler= preprocessing.StandardScaler().fit(X_train)\n",
    "X_train_scaled=scaler.transform(X_train)\n",
    "X_test_scaled=scaler.transform(X_test)"
   ]
  },
  {
   "cell_type": "markdown",
   "metadata": {},
   "source": [
    "Entrenamiento y desempeño del modelo"
   ]
  },
  {
   "cell_type": "code",
   "execution_count": 5,
   "metadata": {},
   "outputs": [
    {
     "name": "stdout",
     "output_type": "stream",
     "text": [
      "[[  0   0   1   0   0   0]\n",
      " [  0   0   3   1   0   0]\n",
      " [  0   1 108  35   1   0]\n",
      " [  0   0  57  60   4   0]\n",
      " [  0   0   5  26  15   0]\n",
      " [  0   0   0   2   1   0]]\n",
      "             precision    recall  f1-score   support\n",
      "\n",
      "          3       0.00      0.00      0.00         1\n",
      "          4       0.00      0.00      0.00         4\n",
      "          5       0.62      0.74      0.68       145\n",
      "          6       0.48      0.50      0.49       121\n",
      "          7       0.71      0.33      0.45        46\n",
      "          8       0.00      0.00      0.00         3\n",
      "\n",
      "avg / total       0.57      0.57      0.56       320\n",
      "\n"
     ]
    },
    {
     "name": "stderr",
     "output_type": "stream",
     "text": [
      "C:\\Users\\EEIE\\Anaconda3\\lib\\site-packages\\sklearn\\metrics\\classification.py:1135: UndefinedMetricWarning: Precision and F-score are ill-defined and being set to 0.0 in labels with no predicted samples.\n",
      "  'precision', 'predicted', average, warn_for)\n"
     ]
    }
   ],
   "source": [
    "mlp= MLPClassifier(hidden_layer_sizes=(4),activation=\"tanh\",max_iter=500)\n",
    "mlp.fit(X_train_scaled,y_train)\n",
    "\n",
    "predict= mlp.predict(X_test_scaled)\n",
    "print(confusion_matrix(y_test,predict))\n",
    "print(classification_report(y_test,predict))"
   ]
  },
  {
   "cell_type": "code",
   "execution_count": 9,
   "metadata": {},
   "outputs": [
    {
     "data": {
      "image/png": "[encoded data removed]",
      "text/plain": [
       "<matplotlib.figure.Figure at 0x1836f163390>"
      ]
     },
     "metadata": {},
     "output_type": "display_data"
    }
   ],
   "source": [
    "plt.plot(y_test[:40], label='Valor real')\n",
    "plt.plot(predict[:40], label='Predicción')\n",
    "plt.title(\"Valor observado vs pronóstico\")\n",
    "plt.ylabel('error')\n",
    "plt.legend(loc=0)\n",
    "plt.savefig(\"Error_RN\")\n",
    "plt.show()"
   ]
  },
  {
   "cell_type": "markdown",
   "metadata": {},
   "source": [
    "Pesos sinápticos y umbrales de activación"
   ]
  },
  {
   "cell_type": "code",
   "execution_count": 10,
   "metadata": {},
   "outputs": [
    {
     "name": "stdout",
     "output_type": "stream",
     "text": [
      "Pesos sinápticos en las capas:\n",
      "[array([[ 0.12991406,  0.52629463, -0.10618291,  0.39068177],\n",
      "       [-0.29512279, -0.36004147, -0.39343534,  0.42409304],\n",
      "       [ 0.23610467, -0.41555603, -0.06519265,  0.38241818],\n",
      "       [ 0.1313238 ,  0.23287946, -0.0837978 ,  0.19159738],\n",
      "       [-0.40510424, -0.22881046, -0.23941783, -0.11799326],\n",
      "       [-0.03494951,  0.3280688 ,  0.11522195, -0.23898815],\n",
      "       [-0.1289214 , -0.82953442,  0.40378715,  0.04242592],\n",
      "       [-0.3768113 , -0.23417517, -0.13091537, -0.30848472],\n",
      "       [-0.26699385,  0.19112771, -0.37662412,  0.66018714],\n",
      "       [ 0.3350684 ,  0.31344237,  0.38885204, -1.02991254],\n",
      "       [ 0.43733325,  0.83844287,  0.25274476, -0.43776142]]), array([[ 0.52965725, -0.33520926, -1.11354261, -0.59055835,  0.60647134,\n",
      "         2.04925781],\n",
      "       [-0.55027617, -0.07230864, -1.10972056,  0.16502847,  0.93647453,\n",
      "         0.3021876 ],\n",
      "       [-1.71110822, -0.44690187,  0.81089359,  1.21594966,  0.30686958,\n",
      "        -0.95776768],\n",
      "       [ 0.30556153,  1.47962443,  0.2139969 , -0.41126861, -0.90278419,\n",
      "         0.11923593]])]\n"
     ]
    }
   ],
   "source": []
  },
  {
   "cell_type": "code",
   "execution_count": 59,
   "metadata": {},
   "outputs": [
    {
     "name": "stdout",
     "output_type": "stream",
     "text": [
      "Pesos sinápticos entre la capa de entrada y la oculta (neurona 1): \n",
      "   Neurona de entrada  Neurona oculta  Peso sináptico\n",
      "0                   1               1        0.129914\n",
      "1                   1               2        0.526295\n",
      "2                   1               3       -0.106183\n",
      "3                   1               4        0.390682\n",
      "\n",
      "Pesos sinápticos entre la capa oculta y la capa de salida\n",
      "   Neurona oculta  Neurona de salida  Peso sináptico\n",
      "0               1                  3        0.529657\n",
      "1               1                  4       -0.335209\n",
      "2               1                  5       -1.113543\n",
      "3               1                  6       -0.590558\n",
      "4               1                  7        0.606471\n",
      "5               1                  8        2.049258\n"
     ]
    }
   ],
   "source": [
    "pesos=mlp.coefs_\n",
    "umbrales=mlp.intercepts_\n",
    "\n",
    "#Capa de entrada - capa oculta\n",
    "a=[]\n",
    "for i in range (11):\n",
    "    for j in range (4):\n",
    "        a.append([i+1,j+1,pesos[0][i][j]])\n",
    "        \n",
    "Pesos1=pd.DataFrame(a,columns=[\"Neurona de entrada\",\"Neurona oculta\",\"Peso sináptico\"])\n",
    "\n",
    "# Capa oculta - Capa de salida\n",
    "b=[]\n",
    "for i in range(4):\n",
    "    for j in range(6):\n",
    "        b.append([i+1,j+3,pesos[1][i][j]])\n",
    "Pesos2=pd.DataFrame(b,columns=[\"Neurona oculta\",\"Neurona de salida\",\"Peso sináptico\"])\n",
    "\n",
    "print(\"Pesos sinápticos entre la capa de entrada y la oculta (neurona 1): \")\n",
    "print(Pesos1[:4])\n",
    "print()\n",
    "print(\"Pesos sinápticos entre la capa oculta y la capa de salida\")\n",
    "print(Pesos2[:6])"
   ]
  },
  {
   "cell_type": "code",
   "execution_count": 95,
   "metadata": {},
   "outputs": [
    {
     "name": "stdout",
     "output_type": "stream",
     "text": [
      "Umbrales 1:\n",
      "   Umbral  Neurona oculta  Peso sináptico\n",
      "0       0               1       -1.335332\n",
      "1       0               2       -0.136453\n",
      "2       0               3        1.612401\n",
      "3       0               4       -0.493810\n",
      "\n",
      "Umbrales 2:\n",
      "   Umbral  Neurona de salida  Peso sináptico\n",
      "0       1                  3       -0.403747\n",
      "1       1                  4       -0.577142\n",
      "2       1                  5        0.298259\n",
      "3       1                  6        0.475870\n",
      "4       1                  7       -0.227214\n",
      "5       1                  8       -0.317053\n"
     ]
    }
   ],
   "source": [
    "# Umbrales a las neuronas ocultas\n",
    "c=[]\n",
    "for i in range (1):\n",
    "    for j in range (4):\n",
    "        c.append([i,j+1,umbrales[0][j]])\n",
    "        \n",
    "Umbrales1=pd.DataFrame(c,columns=[\"Umbral\",\"Neurona oculta\",\"Peso sináptico\"])\n",
    "\n",
    "print(\"Umbrales 1:\")\n",
    "print(Umbrales1)\n",
    "\n",
    "# Umbrales a las neuronas de salida\n",
    "\n",
    "d=[]\n",
    "for i in range (1):\n",
    "    for j in range (6):\n",
    "        d.append([i+1,j+3,umbrales[1][j]])\n",
    "        \n",
    "Umbrales2=pd.DataFrame(d,columns=[\"Umbral\",\"Neurona de salida\",\"Peso sináptico\"])\n",
    "print()\n",
    "print(\"Umbrales 2:\")\n",
    "print(Umbrales2)"
   ]
  }
 ],
 "metadata": {
  "kernelspec": {
   "display_name": "Python 3",
   "language": "python",
   "name": "python3"
  },
  "language_info": {
   "codemirror_mode": {
    "name": "ipython",
    "version": 3
   },
   "file_extension": ".py",
   "mimetype": "text/x-python",
   "name": "python",
   "nbconvert_exporter": "python",
   "pygments_lexer": "ipython3",
   "version": "3.6.3"
  }
 },
 "nbformat": 4,
 "nbformat_minor": 2
}
