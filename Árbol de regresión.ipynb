{
 "cells": [
  {
   "cell_type": "code",
   "execution_count": 2,
   "metadata": {
    "collapsed": true
   },
   "outputs": [],
   "source": [
    "import numpy as np\n",
    "import pandas as pd\n",
    "from sklearn import tree\n",
    "from sklearn.tree import DecisionTreeRegressor\n",
    "from sklearn.externals.six import StringIO\n",
    "from math import sqrt\n",
    "import matplotlib.pyplot as plt"
   ]
  },
  {
   "cell_type": "code",
   "execution_count": 118,
   "metadata": {},
   "outputs": [],
   "source": [
    "# Lectura de los datos\n",
    "loc=r\"winequality-red.csv\"\n",
    "data= pd.read_csv(loc,sep=\";\",)\n",
    "names=list(data.columns.values)\n",
    "label=list(data[\"quality\"])\n",
    "Xlist=(data.drop(\"quality\",1))\n",
    "Xlist=[Xlist.iloc[i] for i in range(len(Xlist))]\n",
    "\n",
    "nrows= len(Xlist)\n",
    "ncols=len(Xlist[0])\n",
    "\n",
    "wineTree=DecisionTreeRegressor(max_depth=4,criterion=\"mae\")\n",
    "wineTree.fit(Xlist, label)\n",
    "\n",
    "with open(\"arbol_1.dot\",\"w\") as f:\n",
    "    f= tree.export_graphviz(wineTree, out_file=f,special_characters=True)"
   ]
  },
  {
   "cell_type": "code",
   "execution_count": 125,
   "metadata": {},
   "outputs": [
    {
     "name": "stdout",
     "output_type": "stream",
     "text": [
      "[4, 5, 733, 850, 7, 0] [10, 53, 681, 638, 199, 18]\n"
     ]
    }
   ],
   "source": [
    "Predict=wineTree.predict(Xlist)\n",
    "Pronos=[]\n",
    "Observ=[]\n",
    "for i in range(3,9):\n",
    "    p=0\n",
    "    for j in Predict:\n",
    "        if i == j:\n",
    "            p+=1\n",
    "    Pronos.append(p)\n",
    "    \n",
    "for i in range(3,9):\n",
    "    o=0\n",
    "    for j in label:\n",
    "        if i == j:\n",
    "            o+=1\n",
    "    Observ.append(o)\n",
    "\n",
    "print(Pronos,Observ)"
   ]
  },
  {
   "cell_type": "code",
   "execution_count": 114,
   "metadata": {},
   "outputs": [
    {
     "data": {
      "text/plain": [
       "[2, 8, 732, 850, 7, 0]"
      ]
     },
     "execution_count": 114,
     "metadata": {},
     "output_type": "execute_result"
    }
   ],
   "source": []
  },
  {
   "cell_type": "code",
   "execution_count": 14,
   "metadata": {},
   "outputs": [
    {
     "data": {
      "image/png": "[encoded data removed]",
      "text/plain": [
       "<matplotlib.figure.Figure at 0x2345f308940>"
      ]
     },
     "metadata": {},
     "output_type": "display_data"
    }
   ],
   "source": [
    "# Import the necessary modules and libraries\n",
    "import numpy as np\n",
    "from sklearn.tree import DecisionTreeRegressor\n",
    "import matplotlib.pyplot as plt\n",
    "\n",
    "# Create a random dataset\n",
    "rng = np.random.RandomState(1)\n",
    "X = np.sort(5 * rng.rand(80, 1), axis=0)\n",
    "y = np.sin(X).ravel()\n",
    "y[::5] += 3 * (0.5 - rng.rand(16))\n",
    "\n",
    "# Fit regression model\n",
    "regr_1 = DecisionTreeRegressor(max_depth=2)\n",
    "regr_2 = DecisionTreeRegressor(max_depth=5)\n",
    "regr_1.fit(X, y)\n",
    "regr_2.fit(X, y)\n",
    "\n",
    "# Predict\n",
    "X_test = np.arange(0.0, 5.0, 0.01)[:, np.newaxis]\n",
    "y_1 = regr_1.predict(X_test)\n",
    "y_2 = regr_2.predict(X_test)\n",
    "\n",
    "# Plot the results\n",
    "plt.figure()\n",
    "plt.scatter(X, y, s=20, edgecolor=\"black\",\n",
    "            c=\"darkorange\", label=\"data\")\n",
    "plt.plot(X_test, y_1, color=\"cornflowerblue\",\n",
    "         label=\"max_depth=2\", linewidth=2)\n",
    "plt.plot(X_test, y_2, color=\"yellowgreen\", label=\"max_depth=5\", linewidth=2)\n",
    "plt.xlabel(\"data\")\n",
    "plt.ylabel(\"target\")\n",
    "plt.title(\"Decision Tree Regression\")\n",
    "plt.legend()\n",
    "plt.show()"
   ]
  },
  {
   "cell_type": "code",
   "execution_count": 17,
   "metadata": {},
   "outputs": [
    {
     "data": {
      "text/plain": [
       "array([[  5.71874087e-04],\n",
       "       [  9.14413867e-02],\n",
       "       [  9.68347894e-02],\n",
       "       [  1.36937966e-01],\n",
       "       [  1.95273916e-01],\n",
       "       [  2.49767295e-01],\n",
       "       [  2.66812726e-01],\n",
       "       [  4.25221057e-01],\n",
       "       [  4.61692974e-01],\n",
       "       [  4.91734169e-01],\n",
       "       [  5.11672144e-01],\n",
       "       [  5.16130033e-01],\n",
       "       [  6.50142861e-01],\n",
       "       [  6.87373521e-01],\n",
       "       [  6.96381736e-01],\n",
       "       [  7.01934693e-01],\n",
       "       [  7.33642875e-01],\n",
       "       [  7.33779454e-01],\n",
       "       [  8.26770986e-01],\n",
       "       [  8.49152098e-01],\n",
       "       [  9.31301057e-01],\n",
       "       [  9.90507445e-01],\n",
       "       [  1.02226125e+00],\n",
       "       [  1.05814058e+00],\n",
       "       [  1.32773330e+00],\n",
       "       [  1.40221996e+00],\n",
       "       [  1.43887669e+00],\n",
       "       [  1.46807074e+00],\n",
       "       [  1.51166286e+00],\n",
       "       [  1.56712089e+00],\n",
       "       [  1.57757816e+00],\n",
       "       [  1.72780364e+00],\n",
       "       [  1.73882930e+00],\n",
       "       [  1.98383737e+00],\n",
       "       [  1.98838418e+00],\n",
       "       [  2.07027994e+00],\n",
       "       [  2.07089635e+00],\n",
       "       [  2.08511002e+00],\n",
       "       [  2.08652401e+00],\n",
       "       [  2.09597257e+00],\n",
       "       [  2.10553813e+00],\n",
       "       [  2.23946763e+00],\n",
       "       [  2.45786580e+00],\n",
       "       [  2.57444556e+00],\n",
       "       [  2.66582642e+00],\n",
       "       [  2.67948203e+00],\n",
       "       [  2.69408367e+00],\n",
       "       [  2.79344914e+00],\n",
       "       [  2.87058803e+00],\n",
       "       [  2.93277520e+00],\n",
       "       [  2.94652768e+00],\n",
       "       [  3.31897323e+00],\n",
       "       [  3.35233755e+00],\n",
       "       [  3.39417766e+00],\n",
       "       [  3.42609750e+00],\n",
       "       [  3.43250464e+00],\n",
       "       [  3.45938557e+00],\n",
       "       [  3.46161308e+00],\n",
       "       [  3.47200079e+00],\n",
       "       [  3.49879180e+00],\n",
       "       [  3.60162247e+00],\n",
       "       [  3.62998993e+00],\n",
       "       [  3.74082827e+00],\n",
       "       [  3.75072157e+00],\n",
       "       [  3.75406052e+00],\n",
       "       [  3.94639664e+00],\n",
       "       [  4.00372284e+00],\n",
       "       [  4.03695644e+00],\n",
       "       [  4.17312836e+00],\n",
       "       [  4.38194576e+00],\n",
       "       [  4.39058718e+00],\n",
       "       [  4.39071252e+00],\n",
       "       [  4.47303332e+00],\n",
       "       [  4.51700958e+00],\n",
       "       [  4.54297752e+00],\n",
       "       [  4.63754290e+00],\n",
       "       [  4.72297378e+00],\n",
       "       [  4.78944765e+00],\n",
       "       [  4.84130788e+00],\n",
       "       [  4.94430544e+00]])"
      ]
     },
     "execution_count": 17,
     "metadata": {},
     "output_type": "execute_result"
    }
   ],
   "source": [
    "X"
   ]
  }
 ],
 "metadata": {
  "kernelspec": {
   "display_name": "Python 3",
   "language": "python",
   "name": "python3"
  },
  "language_info": {
   "codemirror_mode": {
    "name": "ipython",
    "version": 3
   },
   "file_extension": ".py",
   "mimetype": "text/x-python",
   "name": "python",
   "nbconvert_exporter": "python",
   "pygments_lexer": "ipython3",
   "version": "3.6.1"
  }
 },
 "nbformat": 4,
 "nbformat_minor": 2
}
