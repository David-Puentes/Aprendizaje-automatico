{
 "cells": [
  {
   "cell_type": "code",
   "execution_count": 2,
   "metadata": {},
   "outputs": [],
   "source": [
    "import numpy as np\n",
    "import pandas as pd\n",
    "from sklearn import tree\n",
    "from sklearn.tree import DecisionTreeRegressor\n",
    "from sklearn.externals.six import StringIO\n",
    "from sklearn.metrics import classification_report, confusion_matrix\n",
    "import matplotlib.pyplot as plt\n",
    "from sklearn import preprocessing\n",
    "from sklearn.model_selection import train_test_split"
   ]
  },
  {
   "cell_type": "markdown",
   "metadata": {},
   "source": [
    "Importar datos"
   ]
  },
  {
   "cell_type": "code",
   "execution_count": 3,
   "metadata": {},
   "outputs": [],
   "source": [
    "r=\"winequality-red.csv\"\n",
    "datos=pd.read_csv(r,sep=\";\")"
   ]
  },
  {
   "cell_type": "code",
   "execution_count": 4,
   "metadata": {},
   "outputs": [],
   "source": [
    "X=datos.drop([\"alcohol\",\"quality\"],axis=1).values\n",
    "y=datos[\"quality\"].values\n",
    "X_train,X_test,y_train,y_test=train_test_split(X,y,test_size=0.2,\n",
    "                                               random_state=397)\n"
   ]
  },
  {
   "cell_type": "markdown",
   "metadata": {},
   "source": [
    "Normalización de los datos. Definición de variables a predecir y predictoras"
   ]
  },
  {
   "cell_type": "code",
   "execution_count": 5,
   "metadata": {},
   "outputs": [],
   "source": [
    "# Se toma la media de los valores de entrenamiento\n",
    "scaler= preprocessing.StandardScaler().fit(X_train)\n",
    "X_train_scaled=scaler.transform(X_train)\n",
    "X_test_scaled=scaler.transform(X_test)\n",
    "\n",
    "n=len(X_train_scaled[0]) # Número de variables\n",
    "\n",
    "nrows= len(X_train_scaled)\n",
    "ncols=len(X_test_scaled[0])"
   ]
  },
  {
   "cell_type": "markdown",
   "metadata": {},
   "source": [
    "Generación del árbol"
   ]
  },
  {
   "cell_type": "code",
   "execution_count": 6,
   "metadata": {},
   "outputs": [],
   "source": [
    "wineTree=DecisionTreeRegressor(max_depth=4,criterion=\"mae\")\n",
    "wineTree.fit(X_train_scaled.tolist(), y_train.tolist())\n",
    "\n",
    "with open(\"arbol_1.dot\",\"w\") as f:\n",
    "    f= tree.export_graphviz(wineTree, out_file=f,special_characters=True)"
   ]
  },
  {
   "cell_type": "markdown",
   "metadata": {},
   "source": [
    "Pronóstico con valores de prueba"
   ]
  },
  {
   "cell_type": "code",
   "execution_count": 7,
   "metadata": {},
   "outputs": [
    {
     "name": "stdout",
     "output_type": "stream",
     "text": [
      "La calidad pornósticada y observada es:\n",
      " Calidad 3 : 0 - 1\n",
      " Calidad 4 : 0 - 4\n",
      " Calidad 5 : 143 - 145\n",
      " Calidad 6 : 174 - 121\n",
      " Calidad 7 : 3 - 46\n",
      " Calidad 8 : 0 - 3\n"
     ]
    }
   ],
   "source": [
    "Predict=wineTree.predict(X_test_scaled)\n",
    "Pronos=[]\n",
    "Observ=[]\n",
    "for i in range(3,9):\n",
    "    p=0\n",
    "    for j in Predict:\n",
    "        if i == j:\n",
    "            p+=1\n",
    "    Pronos.append(p)\n",
    "    \n",
    "for i in range(3,9):\n",
    "    o=0\n",
    "    for j in y_test:\n",
    "        if i == j:\n",
    "            o+=1\n",
    "    Observ.append(o)\n",
    "\n",
    "print(\"La calidad pornósticada y observada es:\")\n",
    "for i in range(len(Pronos)):\n",
    "    print(\" Calidad %s : %s - %s\" %(i+3,Pronos[i],Observ[i]))\n"
   ]
  },
  {
   "cell_type": "markdown",
   "metadata": {},
   "source": [
    "Evaluación de desempeño"
   ]
  },
  {
   "cell_type": "code",
   "execution_count": 8,
   "metadata": {},
   "outputs": [
    {
     "name": "stdout",
     "output_type": "stream",
     "text": [
      "[[ 0  0  1  0  0  0]\n",
      " [ 0  0  4  0  0  0]\n",
      " [ 0  0 99 46  0  0]\n",
      " [ 0  0 37 84  0  0]\n",
      " [ 0  0  2 41  3  0]\n",
      " [ 0  0  0  3  0  0]]\n",
      "             precision    recall  f1-score   support\n",
      "\n",
      "          3       0.00      0.00      0.00         1\n",
      "          4       0.00      0.00      0.00         4\n",
      "          5       0.69      0.68      0.69       145\n",
      "          6       0.48      0.69      0.57       121\n",
      "          7       1.00      0.07      0.12        46\n",
      "          8       0.00      0.00      0.00         3\n",
      "\n",
      "avg / total       0.64      0.58      0.54       320\n",
      "\n"
     ]
    },
    {
     "name": "stderr",
     "output_type": "stream",
     "text": [
      "C:\\Users\\EEIE\\Anaconda3\\lib\\site-packages\\sklearn\\metrics\\classification.py:1135: UndefinedMetricWarning: Precision and F-score are ill-defined and being set to 0.0 in labels with no predicted samples.\n",
      "  'precision', 'predicted', average, warn_for)\n"
     ]
    }
   ],
   "source": [
    "print(confusion_matrix(y_test,Predict))\n",
    "print(classification_report(y_test,Predict))"
   ]
  },
  {
   "cell_type": "code",
   "execution_count": 13,
   "metadata": {},
   "outputs": [
    {
     "name": "stdout",
     "output_type": "stream",
     "text": [
      "El 58.13% de los vinos estuvieron bien clasificados\n"
     ]
    }
   ],
   "source": [
    "Pronos=np.asarray(Pronos)\n",
    "Observ=np.asarray(Observ)\n",
    "A=y_test==Predict\n",
    "V_count=0\n",
    "for i in A:\n",
    "    if i==True:\n",
    "        V_count+=1\n",
    "Prev=V_count/len(Predict) # prev...alencia\n",
    "print(\"El %.2f\"%(Prev*100) + \"% de los vinos estuvieron bien clasificados\")"
   ]
  }
 ],
 "metadata": {
  "kernelspec": {
   "display_name": "Python 3",
   "language": "python",
   "name": "python3"
  },
  "language_info": {
   "codemirror_mode": {
    "name": "ipython",
    "version": 3
   },
   "file_extension": ".py",
   "mimetype": "text/x-python",
   "name": "python",
   "nbconvert_exporter": "python",
   "pygments_lexer": "ipython3",
   "version": "3.6.3"
  }
 },
 "nbformat": 4,
 "nbformat_minor": 2
}
