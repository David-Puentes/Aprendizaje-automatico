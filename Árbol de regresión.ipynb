{
 "cells": [
  {
   "cell_type": "code",
   "execution_count": 2,
   "metadata": {},
   "outputs": [],
   "source": [
    "import numpy as np\n",
    "import pandas as pd\n",
    "from sklearn import tree\n",
    "from sklearn.tree import DecisionTreeRegressor\n",
    "from sklearn.externals.six import StringIO\n",
    "from math import sqrt\n",
    "import matplotlib.pyplot as plt"
   ]
  },
  {
   "cell_type": "code",
   "execution_count": 19,
   "metadata": {},
   "outputs": [],
   "source": [
    "# Lectura de los datos\n",
    "loc=r\"winequality-red.csv\"\n",
    "data= pd.read_csv(loc,sep=\";\",)\n",
    "names=list(data.columns.values)\n",
    "label=list(data[\"quality\"])\n",
    "Xlist=(data.drop(\"quality\",1))\n",
    "Xlist=[Xlist.iloc[i] for i in range(len(Xlist))]\n",
    "\n",
    "nrows= len(Xlist)\n",
    "ncols=len(Xlist[0])\n",
    "\n",
    "wineTree=DecisionTreeRegressor(max_depth=4,criterion=\"mae\")\n",
    "wineTree.fit(Xlist, label)\n",
    "\n",
    "with open(\"arbol_1.dot\",\"w\") as f:\n",
    "    f= tree.export_graphviz(wineTree, out_file=f,special_characters=True)"
   ]
  },
  {
   "cell_type": "code",
   "execution_count": 8,
   "metadata": {},
   "outputs": [
    {
     "name": "stdout",
     "output_type": "stream",
     "text": [
      "[2, 9, 735, 853, 0, 0] [10, 53, 681, 638, 199, 18]\n"
     ]
    }
   ],
   "source": [
    "Predict=wineTree.predict(Xlist)\n",
    "Pronos=[]\n",
    "Observ=[]\n",
    "for i in range(3,9):\n",
    "    p=0\n",
    "    for j in Predict:\n",
    "        if i == j:\n",
    "            p+=1\n",
    "    Pronos.append(p)\n",
    "    \n",
    "for i in range(3,9):\n",
    "    o=0\n",
    "    for j in label:\n",
    "        if i == j:\n",
    "            o+=1\n",
    "    Observ.append(o)\n",
    "\n",
    "print(Pronos,Observ)"
   ]
  },
  {
   "cell_type": "code",
   "execution_count": 46,
   "metadata": {},
   "outputs": [
    {
     "name": "stdout",
     "output_type": "stream",
     "text": [
      "El 60.04% de los vinos estuvieron bien clasificados\n"
     ]
    }
   ],
   "source": [
    "Pronos=np.asarray(Pronos)\n",
    "Observ=np.asarray(Observ)\n",
    "A=label==Predict\n",
    "V_count=0\n",
    "for i in A:\n",
    "    if i==True:\n",
    "        V_count+=1\n",
    "TPR=V_count/len(Predict)\n",
    "print(\"El %.2f\"%(TPR*100) + \"% de los vinos estuvieron bien clasificados\")"
   ]
  }
 ],
 "metadata": {
  "kernelspec": {
   "display_name": "Python 3",
   "language": "python",
   "name": "python3"
  },
  "language_info": {
   "codemirror_mode": {
    "name": "ipython",
    "version": 3
   },
   "file_extension": ".py",
   "mimetype": "text/x-python",
   "name": "python",
   "nbconvert_exporter": "python",
   "pygments_lexer": "ipython3",
   "version": "3.6.3"
  }
 },
 "nbformat": 4,
 "nbformat_minor": 2
}
